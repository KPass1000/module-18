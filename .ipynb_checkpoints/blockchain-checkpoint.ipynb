{
 "cells": [
  {
   "cell_type": "code",
   "execution_count": 8,
   "id": "608c73c5-fb91-4068-a4c3-f0a7b3c9b6b2",
   "metadata": {},
   "outputs": [],
   "source": [
    "#Imports\n",
    "import streamlit as st\n",
    "from dataclasses import dataclass\n",
    "from typing import Any, List\n",
    "import datetime as datetime\n",
    "import pandas as pd\n",
    "import hashlib"
   ]
  },
  {
   "cell_type": "code",
   "execution_count": 9,
   "id": "3367be3c-f38e-4dd8-be3a-e8af1273ead8",
   "metadata": {},
   "outputs": [],
   "source": [
    "# Define a new Python data class named `Record`.\n",
    "# Add the `@dataclass` decorator immediately before the `Record` class definition.\n",
    "# Add attributes `sender` of type `str`, `receiver` of type `str`, and `amount` of type `float` to the `Record` class.\n",
    "@dataclass\n",
    "class Record:\n",
    "    sender: str\n",
    "    receiver: str\n",
    "    amount: float"
   ]
  },
  {
   "cell_type": "code",
   "execution_count": 10,
   "id": "3e7df15d-7532-4a7b-a712-737cbf3c2dd8",
   "metadata": {},
   "outputs": [],
   "source": [
    "# In the `Block` class, rename the `data` attribute to `record`.\n",
    "# Set the data type of the `record` attribute to `Record`.\n",
    "@dataclass\n",
    "class Block:\n",
    "    record: Record\n",
    "    creator_id: int\n",
    "    prev_hash: str = \"0\"\n",
    "    timestamp: str = datetime.datetime.utcnow().strftime(\"%H:%M:%S\")\n",
    "    nonce: int = 0\n",
    "\n",
    "    # Modify the `hash_block` method to use `self.record` instead of `self.data`.\n",
    "    def hash_block(self):\n",
    "        sha = hashlib.sha256()\n",
    "\n",
    "        record = str(self.record).encode()\n",
    "        sha.update(record)\n",
    "\n",
    "        creator_id = str(self.creator_id).encode()\n",
    "        sha.update(creator_id)\n",
    "\n",
    "        timestamp = str(self.timestamp).encode()\n",
    "        sha.update(timestamp)\n",
    "\n",
    "        prev_hash = str(self.prev_hash).encode()\n",
    "        sha.update(prev_hash)\n",
    "\n",
    "        nonce = str(self.nonce).encode()\n",
    "        sha.update(nonce)\n",
    "\n",
    "        return sha.hexdigest()"
   ]
  },
  {
   "cell_type": "code",
   "execution_count": 11,
   "id": "942670b7-95a9-4faf-840b-50078f0bb4e8",
   "metadata": {},
   "outputs": [],
   "source": [
    "# Delete the `input_data` variable from the Streamlit interface.\n",
    "# Add input areas to capture values for `sender`, `receiver`, and `amount` from the user.\n",
    "# Update the `new_block` functionality to use the user-provided inputs and create a new `Record` object.\n",
    "sender_input = st.text_input(\"Sender\")\n",
    "receiver_input = st.text_input(\"Receiver\")\n",
    "amount_input = st.number_input(\"Amount\")\n",
    "\n",
    "if st.button(\"Add Block\"):\n",
    "    prev_block = pychain.chain[-1]\n",
    "    prev_block_hash = prev_block.hash_block()\n",
    "\n",
    "    # Create a new `Record` object using the user-provided inputs\n",
    "    new_record = Record(sender=sender_input, receiver=receiver_input, amount=amount_input)\n",
    "\n",
    "    # Update `new_block` to use the new `Record` object\n",
    "    new_block = Block(record=new_record, creator_id=42, prev_hash=prev_block_hash)\n",
    "\n",
    "    pychain.add_block(new_block)\n",
    "    st.balloons()"
   ]
  },
  {
   "cell_type": "code",
   "execution_count": null,
   "id": "8d3b7f08-cbf8-48d3-b5df-843f4f087c5d",
   "metadata": {},
   "outputs": [],
   "source": []
  }
 ],
 "metadata": {
  "kernelspec": {
   "display_name": "Python 3 (ipykernel)",
   "language": "python",
   "name": "python3"
  },
  "language_info": {
   "codemirror_mode": {
    "name": "ipython",
    "version": 3
   },
   "file_extension": ".py",
   "mimetype": "text/x-python",
   "name": "python",
   "nbconvert_exporter": "python",
   "pygments_lexer": "ipython3",
   "version": "3.10.10"
  }
 },
 "nbformat": 4,
 "nbformat_minor": 5
}
